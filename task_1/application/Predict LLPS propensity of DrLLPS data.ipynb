{
 "cells": [
  {
   "cell_type": "code",
   "execution_count": 1,
   "id": "b511c42c-6c2e-4549-81fb-053d62e9452f",
   "metadata": {},
   "outputs": [
    {
     "name": "stdout",
     "output_type": "stream",
     "text": [
      "/home/anqi/lab/llps/1st/UDSM-LLPS-Syn/task_1\n"
     ]
    }
   ],
   "source": [
    "cd .."
   ]
  },
  {
   "cell_type": "code",
   "execution_count": 2,
   "id": "3d9d11fd-9a43-4358-8574-62bae51d78ce",
   "metadata": {},
   "outputs": [],
   "source": [
    "import pandas as pd\n",
    "import numpy as np\n",
    "import random\n",
    "\n",
    "# This file is accessed from the original UDSMProt repository\n",
    "from model_utils import *\n",
    "random.seed(42)"
   ]
  },
  {
   "cell_type": "markdown",
   "id": "112ea9b7-30d3-4dfa-b888-5352de14a314",
   "metadata": {
    "tags": []
   },
   "source": [
    "<h3><span style='background :yellow' >1. Load DrLLPS' protein sequences and tokenize</span></h3>"
   ]
  },
  {
   "cell_type": "code",
   "execution_count": 3,
   "id": "47b0167c-ecb8-4c2c-a66b-d7d9562d272f",
   "metadata": {},
   "outputs": [
    {
     "name": "stdout",
     "output_type": "stream",
     "text": [
      "/home/anqi/lab/llps/1st/UDSM-LLPS-Syn/task_1/application\n"
     ]
    }
   ],
   "source": [
    "cd application/"
   ]
  },
  {
   "cell_type": "code",
   "execution_count": 4,
   "id": "0b60dd65-1db5-4421-9154-8877b4f128f8",
   "metadata": {},
   "outputs": [
    {
     "data": {
      "text/html": [
       "<div>\n",
       "<style scoped>\n",
       "    .dataframe tbody tr th:only-of-type {\n",
       "        vertical-align: middle;\n",
       "    }\n",
       "\n",
       "    .dataframe tbody tr th {\n",
       "        vertical-align: top;\n",
       "    }\n",
       "\n",
       "    .dataframe thead th {\n",
       "        text-align: right;\n",
       "    }\n",
       "</style>\n",
       "<table border=\"1\" class=\"dataframe\">\n",
       "  <thead>\n",
       "    <tr style=\"text-align: right;\">\n",
       "      <th></th>\n",
       "      <th>Status</th>\n",
       "      <th>DrLLPS ID</th>\n",
       "      <th>Ensemble Gene ID</th>\n",
       "      <th>UniProt Accession</th>\n",
       "      <th>Gene Name</th>\n",
       "      <th>Organism</th>\n",
       "      <th>Sequence</th>\n",
       "      <th>LLPS_labels</th>\n",
       "    </tr>\n",
       "  </thead>\n",
       "  <tbody>\n",
       "    <tr>\n",
       "      <th>0</th>\n",
       "      <td>reviewed</td>\n",
       "      <td>LLPS-Hos-3149</td>\n",
       "      <td>ENSG00000097007.17</td>\n",
       "      <td>P00519</td>\n",
       "      <td>ABL1</td>\n",
       "      <td>Homo</td>\n",
       "      <td>MGQQPGKVLGDQRRPSLPALHFIKGAGKKESSRHGGPHCNVFVEHE...</td>\n",
       "      <td>scaffold</td>\n",
       "    </tr>\n",
       "    <tr>\n",
       "      <th>1</th>\n",
       "      <td>reviewed</td>\n",
       "      <td>LLPS-Hos-1686</td>\n",
       "      <td>ENSG00000123908.11</td>\n",
       "      <td>Q9UKV8</td>\n",
       "      <td>AGO2</td>\n",
       "      <td>Homo</td>\n",
       "      <td>MYSGAGPALAPPAPPPPIQGYAFKPPPRPDFGTSGRTIKLQANFFE...</td>\n",
       "      <td>scaffold</td>\n",
       "    </tr>\n",
       "    <tr>\n",
       "      <th>2</th>\n",
       "      <td>reviewed</td>\n",
       "      <td>LLPS-Hos-2530</td>\n",
       "      <td>ENSG00000142192.20</td>\n",
       "      <td>P05067</td>\n",
       "      <td>APP</td>\n",
       "      <td>Homo</td>\n",
       "      <td>MLPGLALLLLAAWTARALEVPTDGNAGLLAEPQIAMFCGRLNMHMN...</td>\n",
       "      <td>scaffold</td>\n",
       "    </tr>\n",
       "    <tr>\n",
       "      <th>3</th>\n",
       "      <td>reviewed</td>\n",
       "      <td>LLPS-Hos-2173</td>\n",
       "      <td>ENSG00000204842.15</td>\n",
       "      <td>Q99700</td>\n",
       "      <td>ATXN2</td>\n",
       "      <td>Homo</td>\n",
       "      <td>MRSAAAAPRSPAVATESRRFAAARWPGWRSLQRPARRSGRGGGGAA...</td>\n",
       "      <td>scaffold</td>\n",
       "    </tr>\n",
       "    <tr>\n",
       "      <th>4</th>\n",
       "      <td>reviewed</td>\n",
       "      <td>LLPS-Hos-0662</td>\n",
       "      <td>ENSG00000168488.18</td>\n",
       "      <td>Q8WWM7</td>\n",
       "      <td>ATXN2L</td>\n",
       "      <td>Homo</td>\n",
       "      <td>MLKPQPLQQPSQPQQPPPTQQAVARRPPGGTSPPNGGLPGPLATSA...</td>\n",
       "      <td>scaffold</td>\n",
       "    </tr>\n",
       "    <tr>\n",
       "      <th>...</th>\n",
       "      <td>...</td>\n",
       "      <td>...</td>\n",
       "      <td>...</td>\n",
       "      <td>...</td>\n",
       "      <td>...</td>\n",
       "      <td>...</td>\n",
       "      <td>...</td>\n",
       "      <td>...</td>\n",
       "    </tr>\n",
       "    <tr>\n",
       "      <th>3622</th>\n",
       "      <td>reviewed</td>\n",
       "      <td>LLPS-Hos-4071</td>\n",
       "      <td>ENSG00000103994.17</td>\n",
       "      <td>Q9H2Y7</td>\n",
       "      <td>ZNF106</td>\n",
       "      <td>Homo</td>\n",
       "      <td>MVRERKCILCHIVYSSKKEMDEHMRSMLHHRELENLKGRDISHECR...</td>\n",
       "      <td>regulator</td>\n",
       "    </tr>\n",
       "    <tr>\n",
       "      <th>3623</th>\n",
       "      <td>reviewed</td>\n",
       "      <td>LLPS-Hos-1898</td>\n",
       "      <td>ENSG00000112200.16</td>\n",
       "      <td>Q9Y4E5</td>\n",
       "      <td>ZNF451</td>\n",
       "      <td>Homo</td>\n",
       "      <td>MGDPGSEIIESVPPAGPEASESTTDENEDDIQFVSEGPLRPVLEYI...</td>\n",
       "      <td>regulator</td>\n",
       "    </tr>\n",
       "    <tr>\n",
       "      <th>3624</th>\n",
       "      <td>reviewed</td>\n",
       "      <td>LLPS-Hos-0399</td>\n",
       "      <td>ENSG00000167962.13</td>\n",
       "      <td>Q86UK7</td>\n",
       "      <td>ZNF598</td>\n",
       "      <td>Homo</td>\n",
       "      <td>MRVLCEQRYCAVCREELRQVVFGKKLPAFATIPIHQLQHEKKYDIY...</td>\n",
       "      <td>regulator</td>\n",
       "    </tr>\n",
       "    <tr>\n",
       "      <th>3625</th>\n",
       "      <td>reviewed</td>\n",
       "      <td>LLPS-Hos-0365</td>\n",
       "      <td>ENSG00000066379.14</td>\n",
       "      <td>Q9P1U0</td>\n",
       "      <td>ZNRD1</td>\n",
       "      <td>Homo</td>\n",
       "      <td>MSVMDLANTCSSFQSDLDFCSDCGSVLPLPGAQDTVTCIRCGFNIN...</td>\n",
       "      <td>regulator</td>\n",
       "    </tr>\n",
       "    <tr>\n",
       "      <th>3626</th>\n",
       "      <td>reviewed</td>\n",
       "      <td>LLPS-Hos-1264</td>\n",
       "      <td>ENSG00000103310.10</td>\n",
       "      <td>Q05996</td>\n",
       "      <td>ZP2</td>\n",
       "      <td>Homo</td>\n",
       "      <td>MACRQRGGSWSPSGWFNAGWSTYRSISLFFALVTSGNSIDVSQLVN...</td>\n",
       "      <td>regulator</td>\n",
       "    </tr>\n",
       "  </tbody>\n",
       "</table>\n",
       "<p>3627 rows × 8 columns</p>\n",
       "</div>"
      ],
      "text/plain": [
       "        Status      DrLLPS ID    Ensemble Gene ID UniProt Accession Gene Name  \\\n",
       "0     reviewed  LLPS-Hos-3149  ENSG00000097007.17            P00519      ABL1   \n",
       "1     reviewed  LLPS-Hos-1686  ENSG00000123908.11            Q9UKV8      AGO2   \n",
       "2     reviewed  LLPS-Hos-2530  ENSG00000142192.20            P05067       APP   \n",
       "3     reviewed  LLPS-Hos-2173  ENSG00000204842.15            Q99700     ATXN2   \n",
       "4     reviewed  LLPS-Hos-0662  ENSG00000168488.18            Q8WWM7    ATXN2L   \n",
       "...        ...            ...                 ...               ...       ...   \n",
       "3622  reviewed  LLPS-Hos-4071  ENSG00000103994.17            Q9H2Y7    ZNF106   \n",
       "3623  reviewed  LLPS-Hos-1898  ENSG00000112200.16            Q9Y4E5    ZNF451   \n",
       "3624  reviewed  LLPS-Hos-0399  ENSG00000167962.13            Q86UK7    ZNF598   \n",
       "3625  reviewed  LLPS-Hos-0365  ENSG00000066379.14            Q9P1U0     ZNRD1   \n",
       "3626  reviewed  LLPS-Hos-1264  ENSG00000103310.10            Q05996       ZP2   \n",
       "\n",
       "     Organism                                           Sequence LLPS_labels  \n",
       "0        Homo  MGQQPGKVLGDQRRPSLPALHFIKGAGKKESSRHGGPHCNVFVEHE...    scaffold  \n",
       "1        Homo  MYSGAGPALAPPAPPPPIQGYAFKPPPRPDFGTSGRTIKLQANFFE...    scaffold  \n",
       "2        Homo  MLPGLALLLLAAWTARALEVPTDGNAGLLAEPQIAMFCGRLNMHMN...    scaffold  \n",
       "3        Homo  MRSAAAAPRSPAVATESRRFAAARWPGWRSLQRPARRSGRGGGGAA...    scaffold  \n",
       "4        Homo  MLKPQPLQQPSQPQQPPPTQQAVARRPPGGTSPPNGGLPGPLATSA...    scaffold  \n",
       "...       ...                                                ...         ...  \n",
       "3622     Homo  MVRERKCILCHIVYSSKKEMDEHMRSMLHHRELENLKGRDISHECR...   regulator  \n",
       "3623     Homo  MGDPGSEIIESVPPAGPEASESTTDENEDDIQFVSEGPLRPVLEYI...   regulator  \n",
       "3624     Homo  MRVLCEQRYCAVCREELRQVVFGKKLPAFATIPIHQLQHEKKYDIY...   regulator  \n",
       "3625     Homo  MSVMDLANTCSSFQSDLDFCSDCGSVLPLPGAQDTVTCIRCGFNIN...   regulator  \n",
       "3626     Homo  MACRQRGGSWSPSGWFNAGWSTYRSISLFFALVTSGNSIDVSQLVN...   regulator  \n",
       "\n",
       "[3627 rows x 8 columns]"
      ]
     },
     "execution_count": 4,
     "metadata": {},
     "output_type": "execute_result"
    }
   ],
   "source": [
    "DrLLPS = pd.read_csv(\"DrLLPS_data.csv\")\n",
    "DrLLPS"
   ]
  },
  {
   "cell_type": "code",
   "execution_count": 5,
   "id": "a61280f6-595d-401e-902c-284629f96bc0",
   "metadata": {},
   "outputs": [],
   "source": [
    "from tqdm import tqdm as tqdm\n",
    "from pathlib import Path"
   ]
  },
  {
   "cell_type": "code",
   "execution_count": 6,
   "id": "0fc462d6-b681-4d05-baf4-68f790173e05",
   "metadata": {},
   "outputs": [
    {
     "data": {
      "text/plain": [
       "client       2998\n",
       "regulator     529\n",
       "scaffold      100\n",
       "Name: LLPS_labels, dtype: int64"
      ]
     },
     "execution_count": 6,
     "metadata": {},
     "output_type": "execute_result"
    }
   ],
   "source": [
    "DrLLPS = DrLLPS.rename(columns = {'UniProt Accession':'Uniprot_ID'})\n",
    "DrLLPS['LLPS_labels'].value_counts()"
   ]
  },
  {
   "cell_type": "code",
   "execution_count": 7,
   "id": "eec63edd-093c-4782-94cb-2e598f5040c0",
   "metadata": {},
   "outputs": [],
   "source": [
    "path = Path(\"./\")"
   ]
  },
  {
   "cell_type": "code",
   "execution_count": 8,
   "id": "29f3ef44-51fc-487f-91e0-9df8c133674e",
   "metadata": {},
   "outputs": [],
   "source": [
    "path.mkdir(parents=True, exist_ok=True) "
   ]
  },
  {
   "cell_type": "code",
   "execution_count": 9,
   "id": "89919071-0109-4119-b722-35275a6abfed",
   "metadata": {},
   "outputs": [],
   "source": [
    "WORKING_FOLDER = path"
   ]
  },
  {
   "cell_type": "code",
   "execution_count": 10,
   "id": "d45e418f-6f0d-4624-946c-7ce17658dc61",
   "metadata": {},
   "outputs": [],
   "source": [
    "# save the UniProt entry information and category information of DrLLPS database\n",
    "\n",
    "np.save(path/'UniProt_IDs.npy', DrLLPS['Uniprot_ID'])\n",
    "np.save(path/'DrLLPS_labels.npy', DrLLPS['LLPS_labels'])"
   ]
  },
  {
   "cell_type": "code",
   "execution_count": 11,
   "id": "687fdbe6-f32f-445a-9cbc-4a512eb3c46f",
   "metadata": {},
   "outputs": [],
   "source": [
    "pad_idx=0\n",
    "mask_idx=1\n",
    "insert_bos=True\n",
    "insert_eos=False\n",
    "insert_oov=False\n",
    "max_entries=0\n",
    "max_vocab=60000\n",
    "min_freq=2"
   ]
  },
  {
   "cell_type": "code",
   "execution_count": 12,
   "id": "49571ef9-1fe7-4b91-a1ba-ea1c7a58aa69",
   "metadata": {},
   "outputs": [],
   "source": [
    "label_none= \"_none_\" #special label: none (i.e. irrelevant) token for annotation labels e.g. for padding/eos but also for irrelevant phosphorylation site predictions\n",
    "label_bg = \"_bg_\" #special label: background token for annotation labels\n",
    "\n",
    "token_oov=\"_oov_\"\n",
    "token_pad=\"_pad_\"\n",
    "token_bos=\"_bos_\"\n",
    "token_eos=\"_eos_\"\n",
    "token_mask=\"_mask_\""
   ]
  },
  {
   "cell_type": "code",
   "execution_count": 13,
   "id": "725fe83b-b348-4b74-805e-0dda6180d414",
   "metadata": {},
   "outputs": [],
   "source": [
    "# tokenizer\n",
    "def list_tokenizer(seq): \n",
    "    '''default tokenizer just returns a list'''\n",
    "    return [t for t in seq]"
   ]
  },
  {
   "cell_type": "code",
   "execution_count": 14,
   "id": "a0f46175-9f62-41be-a546-8628064e3def",
   "metadata": {},
   "outputs": [],
   "source": [
    "tokenizer=list_tokenizer"
   ]
  },
  {
   "cell_type": "code",
   "execution_count": 15,
   "id": "4f164f0d-6630-4132-b61b-f7131c3068a9",
   "metadata": {},
   "outputs": [
    {
     "data": {
      "text/plain": [
       "array(['_pad_', '_mask_', 'L', 'S', 'A', 'E', 'G', 'P', 'V', 'K', 'R', 'T', 'D', 'Q', 'I', 'N', 'F', 'Y', 'H', 'C',\n",
       "       'M', 'W', '_bos_', 'X', 'U'], dtype='<U6')"
      ]
     },
     "execution_count": 15,
     "metadata": {},
     "output_type": "execute_result"
    }
   ],
   "source": [
    "tok_itos_in = np.load(path/\"tok_itos.npy\", allow_pickle=True)\n",
    "tok_itos_in"
   ]
  },
  {
   "cell_type": "code",
   "execution_count": 16,
   "id": "3fb376f3-48f2-4d28-88c1-b555d4356289",
   "metadata": {},
   "outputs": [
    {
     "name": "stderr",
     "output_type": "stream",
     "text": [
      "3627it [00:00, 19064.35it/s]\n"
     ]
    },
    {
     "name": "stdout",
     "output_type": "stream",
     "text": [
      "tok_itos ( 25 items): ['_pad_', '_mask_', 'L', 'S', 'A', 'E', 'G', 'P', 'V', 'K', 'R', 'T', 'D', 'Q', 'I', 'N', 'F', 'Y', 'H', 'C', 'M', 'W', '_bos_', 'X', 'U']\n"
     ]
    },
    {
     "name": "stderr",
     "output_type": "stream",
     "text": [
      "/local_scratch/pbs.85797.pbs02/ipykernel_3037949/90192494.py:16: VisibleDeprecationWarning: Creating an ndarray from ragged nested sequences (which is a list-or-tuple of lists-or-tuples-or ndarrays with different lengths or shapes) is deprecated. If you meant to do this, you must specify 'dtype=object' when creating the ndarray\n",
      "  tok_num = np.array([[tok_stoi[o] for o in p] for p in pred_tok])\n"
     ]
    }
   ],
   "source": [
    "#tokenize text (to be parallelized)\n",
    "pred_tok = []\n",
    "\n",
    "for index, row in tqdm(DrLLPS.iterrows()):\n",
    "    item_tok = tokenizer(row['Sequence'])\n",
    "    if(insert_bos):\n",
    "        item_tok=[token_bos]+item_tok\n",
    "    if(insert_eos):\n",
    "        item_tok=item_tok +[token_eos]\n",
    "    pred_tok.append(item_tok)\n",
    "    \n",
    "# turn into integers\n",
    "tok_itos = tok_itos_in\n",
    "print(\"tok_itos (\", len(tok_itos), \"items):\",list(tok_itos))\n",
    "tok_stoi = defaultdict(lambda:(len(tok_itos) if insert_oov else pad_idx), {v:k for k,v in enumerate(tok_itos)})\n",
    "tok_num = np.array([[tok_stoi[o] for o in p] for p in pred_tok])\n",
    "np.save(path/\"pred_tok.npy\",tok_num)"
   ]
  },
  {
   "cell_type": "markdown",
   "id": "3d5473bd-8bee-49c8-9700-1dcecb3d7807",
   "metadata": {},
   "source": [
    "<h3><span style='background :yellow' >2. Load the fine-tuned UDSM-LLPS(Random) model</span></h3>"
   ]
  },
  {
   "cell_type": "code",
   "execution_count": 17,
   "id": "6795611f-e3f5-4e78-84f6-56c25f5cfd00",
   "metadata": {},
   "outputs": [],
   "source": [
    "PRETRAINED_FOLDER1 = Path(\"../\")"
   ]
  },
  {
   "cell_type": "code",
   "execution_count": 18,
   "id": "f5b55a9d-d785-4cfd-81ca-ab96c313d8bb",
   "metadata": {},
   "outputs": [],
   "source": [
    "learn = load_learner(PRETRAINED_FOLDER1, 'UDSM-LLPS_Random.pkl')"
   ]
  },
  {
   "cell_type": "code",
   "execution_count": 19,
   "id": "860cbd40-15ec-404d-a5ff-1aeb53459c95",
   "metadata": {},
   "outputs": [
    {
     "data": {
      "text/plain": [
       "{0: '_pad_',\n",
       " 1: '_mask_',\n",
       " 2: 'L',\n",
       " 3: 'S',\n",
       " 4: 'A',\n",
       " 5: 'E',\n",
       " 6: 'G',\n",
       " 7: 'P',\n",
       " 8: 'V',\n",
       " 9: 'K',\n",
       " 10: 'R',\n",
       " 11: 'T',\n",
       " 12: 'D',\n",
       " 13: 'Q',\n",
       " 14: 'I',\n",
       " 15: 'N',\n",
       " 16: 'F',\n",
       " 17: 'Y',\n",
       " 18: 'H',\n",
       " 19: 'C',\n",
       " 20: 'M',\n",
       " 21: 'W',\n",
       " 22: '_bos_',\n",
       " 23: 'X',\n",
       " 24: 'U'}"
      ]
     },
     "execution_count": 19,
     "metadata": {},
     "output_type": "execute_result"
    }
   ],
   "source": [
    "itos={i:x for i,x in enumerate(tok_itos)}\n",
    "itos"
   ]
  },
  {
   "cell_type": "code",
   "execution_count": 20,
   "id": "a22207db-0be8-469e-a796-f5368a2a57c8",
   "metadata": {},
   "outputs": [],
   "source": [
    "vocab=Vocab(itos)"
   ]
  },
  {
   "cell_type": "code",
   "execution_count": 21,
   "id": "0d8a9f02-199d-4428-b881-72ce87ac35fc",
   "metadata": {},
   "outputs": [
    {
     "data": {
      "text/plain": [
       "TextClasDataBunch;\n",
       "\n",
       "Train: LabelList (3627 items)\n",
       "x: TextList\n",
       "_bos_ M G Q Q P G K V L G D Q R R P S L P A L H F I K G A G K K E S S R H G G P H C N V F V E H E A L Q R P V A S D F E P Q G L S E A A R W N S K E N L L A G P S E N D P N L F V A L Y D F V A S G D N T L S I T K G E K L R V L G Y N H N G E W C E A Q T K N G Q G W V P S N Y I T P V N S L E K H S W Y H G P V S R N A A E Y L L S S G I N G S F L V R E S E S S P G Q R S I S L R Y E G R V Y H Y R I N T A S D G K L Y V S S E S R F N T L A E L V H H H S T V A D G L I T T L H Y P A P K R N K P T V Y G V S P N Y D K W E M E R T D I T M K H K L G G G Q Y G E V Y E G V W K K Y S L T V A V K T L K E D T M E V E E F L K E A A V M K E I K H P N L V Q L L G V C T R E P P F Y I I T E F M T Y G N L L D Y L R E C N R Q E V N A V V L L Y M A T Q I S S A M E Y L E K K N F I H R D L A A R N C L V G E N H L V K V A D F G L S R L M T G D T Y T A H A G A K F P I K W T A P E S L A Y N K F S I K S D V W A F G V L L W E I A T Y G M S P Y P G I D L S Q V Y E L L E K D Y R M E R P E G C P E K V Y E L M R A C W Q W N P S D R P S F A E I H Q A F E T M F Q E S S I S D E V E K E L G K Q G V R G A V S T L L Q A P E L P T K T R T S R R A A E H R D T T D V P E M P H S K G Q G E S D P L D H E P A V S P L L P R K E R G P P E G G L N E D E R L L P K D K K T N L F S A L I K K K K K T A P T P P K R S S S F R E M D G Q P E R R G A G E E E G R D I S N G A L A F T P L D T A D P A K S P K P S N G A G V P N G A L R E S G G S G F R S P H L W K K S S T L T S S R L A T G E E E G G G S S S K R F L R S C S A S C V P H G A K D T E W R S V T L P R D L Q S T G R Q F D S S T F G G H K S E K P A L P R K R A G E N R S D Q V T R G T V T P P P R L V K K N E E A A D E V F K D I M E S S P G S S P P N L T P K P L R R Q V T V A P A S G L P H K E E A G K G S A L G T P A A A E P V T P T S K A G S G A P G G T S K G P A E E S R V R R H K H S S E S P G R D K G K L S R L K P A P P P P P A A S A G K A G G K P S Q S P S Q E A A G E A V L G A K T K A T S L V D A V N S D A A K P S Q P G E G L K K P V L P A T P K P Q S A K P S G T P I S P A P V P S T L P S A S S A L A G D Q P S S T A F I P L I S T R V S L R K T R Q P P E R I A S G A I T K G V V L D S T E A L C L A I S R N S E Q M A S H S A V L E A G K N L Y T F C V S Y V D S I Q Q M R N K F A F R E A I N K L E N N L R E L Q I C P A T A G S G P A A T Q D F S K L L S S V K E I S D I V Q R,_bos_ M Y S G A G P A L A P P A P P P P I Q G Y A F K P P P R P D F G T S G R T I K L Q A N F F E M D I P K I D I Y H Y E L D I K P E K C P R R V N R E I V E H M V Q H F K T Q I F G D R K P V F D G R K N L Y T A M P L P I G R D K V E L E V T L P G E G K D R I F K V S I K W V S C V S L Q A L H D A L S G R L P S V P F E T I Q A L D V V M R H L P S M R Y T P V G R S F F T A S E G C S N P L G G G R E V W F G F H Q S V R P S L W K M M L N I D V S A T A F Y K A Q P V I E F V C E V L D F K S I E E Q Q K P L T D S Q R V K F T K E I K G L K V E I T H C G Q M K R K Y R V C N V T R R P A S H Q T F P L Q Q E S G Q T V E C T V A Q Y F K D R H K L V L R Y P H L P C L Q V G Q E Q K H T Y L P L E V C N I V A G Q R C I K K L T D N Q T S T M I R A T A R S A P D R Q E E I S K L M R S A S F N T D P Y V R E F G I M V K D E M T D V T G R V L Q P P S I L Y G G R N K A I A T P V Q G V W D M R N K Q F H T G I E I K V W A I A C F A P Q R Q C T E V H L K S F T E Q L R K I S R D A G M P I Q G Q P C F C K Y A Q G A D S V E P M F R H L K N T Y A G L Q L V V V I L P G K T P V Y A E V K R V G D T V L G M A T Q C V Q M K N V Q R T T P Q T L S N L C L K I N V K L G G V N N I L L P Q G R P P V F Q Q P V I F L G A D V T H P P A G D G K K P S I A A V V G S M D A H P N R Y C A T V R V Q Q H R Q E I I Q D L A A M V R E L L I Q F Y K S T R F K P T R I I F Y R D G V S E G Q F Q Q V L H H E L L A I R E A C I K L E K D Y Q P G I T F I V V Q K R H H T R L F C T D K N E R V G K S G N I P A G T T V D T K I T H P T E F D F Y L C S H A G I Q G T S R P S H Y H V L W D D N R F S S D E L Q I L T Y Q L C H T Y V R C T R S V S I P A P A Y Y A H L V A F R A R Y H L V D K E H D S A E G S H T S G Q S N G R D H Q A L A K A V Q V H Q D T L R T M Y F A,_bos_ M L P G L A L L L L A A W T A R A L E V P T D G N A G L L A E P Q I A M F C G R L N M H M N V Q N G K W D S D P S G T K T C I D T K E G I L Q Y C Q E V Y P E L Q I T N V V E A N Q P V T I Q N W C K R G R K Q C K T H P H F V I P Y R C L V G E F V S D A L L V P D K C K F L H Q E R M D V C E T H L H W H T V A K E T C S E K S T N L H D Y G M L L P C G I D K F R G V E F V C C P L A E E S D N V D S A D A E E D D S D V W W G G A D T D Y A D G S E D K V V E V A E E E E V A E V E E E E A D D D E D D E D G D E V E E E A E E P Y E E A T E R T T S I A T T T T T T T E S V E E V V R E V C S E Q A E T G P C R A M I S R W Y F D V T E G K C A P F F Y G G C G G N R N N F D T E E Y C M A V C G S A M S Q S L L K T T Q E P L A R D P V K L P T T A A S T P D A V D K Y L E T P G D E N E H A H F Q K A K E R L E A K H R E R M S Q V M R E W E E A E R Q A K N L P K A D K K A V I Q H F Q E K V E S L E Q E A A N E R Q Q L V E T H M A R V E A M L N D R R R L A L E N Y I T A L Q A V P P R P R H V F N M L K K Y V R A E Q K D R Q H T L K H F E H V R M V D P K K A A Q I R S Q V M T H L R V I Y E R M N Q S L S L L Y N V P A V A E E I Q D E V D E L L Q K E Q N Y S D D V L A N M I S E P R I S Y G N D A L M P S L T E T K T T V E L L P V N G E F S L D D L Q P W H S F G A D S V P A N T E N E V E P V D A R P A A D R G L T T R P G S G L T N I K T E E I S E V K M D A E F R H D S G Y E V H H Q K L V F F A E D V G S N K G A I I G L M V G G V V I A T V I V I T L V M L K K K Q Y T S I H H G V V E V D A A V T P E E R H L S K M Q Q N G Y E N P T Y K F F E Q M Q N,_bos_ M R S A A A A P R S P A V A T E S R R F A A A R W P G W R S L Q R P A R R S G R G G G G A A P G P Y P S A A P P P P G P G P P P S R Q S S P P S A S D C F G S N G N G G G A F R P G S R R L L G L G G P P R P F V V L L L P L A S P G A P P A A P T R A S P L G A R A S P P R S G V S L A R P A P G C P R P A C E P V Y G P L T M S L K P Q Q Q Q Q Q Q Q Q Q Q Q Q Q Q Q Q Q Q Q Q Q Q P P P A A A N V R K P G G S G L L A S P A A A P S P S S S S V S S S S A T A P S S V V A A T S G G G R P G L G R G R N S N K G L P Q S T I S F D G I Y A N M R M V H I L T S V V G S K C E V Q V K N G G I Y E G V F K T Y S P K C D L V L D A A H E K S T E S S S G P K R E E I M E S I L F K C S D F V V V Q F K D M D S S Y A K R D A F T D S A I S A K V N G E H K E K D L E P W D A G E L T A N E E L E A L E N D V S N G W D P N D M F R Y N E E N Y G V V S T Y D S S L S S Y T V P L E R D N S E E F L K R E A R A N Q L A E E I E S S A Q Y K A R V A L E N D D R S E E E K Y T A V Q R N S S E R E G H S I N T R E N K Y I P P G Q R N R E V I S W G S G R Q N S P R M G Q P G S G S M P S R S T S H T S D F N P N S G S D Q R V V N G G V P W P S P C P S P S S R P P S R Y Q S G P N S L P P R A A T P T R P P S R P P S R P S R P P S H P S A H G S P A P V S T M P K R M S S E G P P R M S P K A Q R H P R N H R V S A G R G S I S S G L E F V S H N P P S E A A T P P V A R T S P S G G T W S S V V S G V P R L S P K T H R P R S P R Q N S I G N T P S G P V L A S P Q A G I I P T E A V A M P I P A A S P T P A S P A S N R A V T P S S E A K D S R L Q D Q R Q N S P A G N K E N I K P N E T S P S F S K A E N K G I S P V V S E H R K Q I D D L K K F K N D F R L Q P S S T S E S M D Q L L N K N R E G E K S R D L I K D K I E P S A K D S F I E N S S S N C T S G S S K P N S P S I S P S I L S N T E H K R G P E V T S Q G V Q T S S P A C K Q E K D D K E E K K D A A E Q V R K S T L N P N A K E F N P R S F S Q P K P S T T P T S P R P Q A Q P S P S M V G H Q Q P T P V Y T Q P V C F A P N M M Y P V P V S P G V Q P L Y P I P M T P M P V N Q A K T Y R A V P N M P Q Q R Q D Q H H Q S A M M H P A S A A G P P I A A T P P A Y S T Q Y V A Y S P Q Q F P N Q P L V Q H V P H Y Q S Q H P H V Y S P V I Q G N A R M M A P P T H A Q P G L V S S S A T Q Y G A H E Q T H A M Y A C P K L P Y N K E T S P S F Y F A I S T G S L A Q Q Y A H P N A T L H P H T P H P Q P S A T P T G Q Q Q S Q H G G S H P A P S P V Q H H Q H Q A A Q A L H L A S P Q Q Q S A I Y H A G L A P T P P S M T P A S N T Q S P Q N S F P A A Q Q T V F T I H P S H V Q P A Y T N P P H M A H V P Q A H V Q S G M V P S H P T A H A P M M L M T T Q P P G G P Q A A L A Q S A L Q P I P V S T T A H F P Y M T H P S V Q A H H Q Q Q L,_bos_ M L K P Q P L Q Q P S Q P Q Q P P P T Q Q A V A R R P P G G T S P P N G G L P G P L A T S A A P P G P P A A A S P C L G P V A A A G S G L R R G A E G I L A P Q P P P P Q Q H Q E R P G A A A I G S A R G Q S T G K G P P Q S P V F E G V Y N N S R M L H F L T A V V G S T C D V K V K N G T T Y E G I F K T L S S K F E L A V D A V H R K A S E P A G G P R R E D I V D T M V F K P S D V M L V H F R N V D F N Y A T K D K F T D S A I A M N S K V N G E H K E K V L Q R W E G G D S N S D D Y D L E S D M S N G W D P N E M F K F N E E N Y G V K T T Y D S S L S S Y T V P L E K D N S E E F R Q R E L R A A Q L A R E I E S S P Q Y R L R I A M E N D D G R T E E E K H S A V Q R Q G S G R E S P S L A S R E G K Y I P L P Q R V R E G P R G G V R C S S S R G G R P G L S S L P P R G P H H L D N S S P G P G S E A R G I N G G P S R M S P K A Q R P L R G A K T L S S P S N R P S G E T S V P P P P A V G R M Y P P R S P K S A A P A P I S A S C P E P P I G S A V P T S S A S I P V T S S V S D P G V G S I S P A S P K I S L A P T D V K E L S T K E P G R T L E P Q E L A R I A G K V P G L Q N E Q K R F Q L E E L R K F G A Q F K L Q P S S S P E N S L D P F P P R I L K E E P K G K E K E V D G L L T S E P M G S P V S S K T E S V S D K E D K P P L A P S G G T E G P E Q P P P P C P S Q T G S P P V G L I K G E D K D E G P V A E Q V K K S T L N P N A K E F N P T K P L L S V N K S T S T P T S P G P R T H S T P S I P V L T A G Q S G L Y S P Q Y I S Y I P Q I H M G P A V Q A P Q M Y P Y P V S N S V P G Q Q G K Y R G A K G S L P P Q R S D Q H Q P A S A P P M M Q A A A A A G P P L V A A T P Y S S Y I P Y N P Q Q F P G Q P A M M Q P M A H Y P S Q P V F A P M L Q S N P R M L T S G S H P Q A I V S S S T P Q Y P S A E Q P T P Q A L Y A T V H Q S Y P H H A T Q L H A H Q P Q P A T T P T G S Q P Q S Q H A A P S P V Q H Q A G Q A P H L G S G Q P Q Q N L Y H P G A L T G T P P S L P P G P S A Q S P Q S S F P Q P A A V Y A I H H Q Q L P H G F T N M A H V T Q A H V Q T G I T A A P P P H P G A P H P P Q V M L L H P P Q S H G G P P Q G A V P Q S G V P A L S A S T P S P Y P Y I G H P Q G E Q P G Q A P G F P G G A D D R I L C R V G R S H S R R R Q G L A P G S V L C F P P S S L S C D P A A P L P T A S P A L S D P D C L L T\n",
       "y: EmptyLabelList\n",
       ",,,,\n",
       "Path: .;\n",
       "\n",
       "Valid: LabelList (0 items)\n",
       "x: TextList\n",
       "\n",
       "y: EmptyLabelList\n",
       "\n",
       "Path: .;\n",
       "\n",
       "Test: None"
      ]
     },
     "execution_count": 21,
     "metadata": {},
     "output_type": "execute_result"
    }
   ],
   "source": [
    "text_pred = TextList(items=tok_num, vocab=vocab, pad_idx=pad_idx, path=WORKING_FOLDER, processor=[]).split_none().label_empty().databunch(bs=9,pad_idx=pad_idx)\n",
    "text_pred"
   ]
  },
  {
   "cell_type": "code",
   "execution_count": 22,
   "id": "9d319b62-7d27-451f-9e81-232a568d6933",
   "metadata": {},
   "outputs": [
    {
     "data": {
      "text/plain": [
       "TextClasDataBunch;\n",
       "\n",
       "Train: LabelList (0 items)\n",
       "x: TextList\n",
       "\n",
       "y: CategoryList\n",
       "\n",
       "Path: ..;\n",
       "\n",
       "Valid: LabelList (0 items)\n",
       "x: TextList\n",
       "\n",
       "y: CategoryList\n",
       "\n",
       "Path: ..;\n",
       "\n",
       "Test: None"
      ]
     },
     "execution_count": 22,
     "metadata": {},
     "output_type": "execute_result"
    }
   ],
   "source": [
    "learn.data"
   ]
  },
  {
   "cell_type": "code",
   "execution_count": 23,
   "id": "1fe430c3-fb10-4dde-a70a-6e29df1ea893",
   "metadata": {},
   "outputs": [],
   "source": [
    "# Assign text_pred to the loaded learner\n",
    "learn.data = text_pred"
   ]
  },
  {
   "cell_type": "code",
   "execution_count": 24,
   "id": "726b072a-3709-46bc-bc82-02a369d7a6a5",
   "metadata": {},
   "outputs": [
    {
     "data": {
      "text/plain": [
       "TextClasDataBunch;\n",
       "\n",
       "Train: LabelList (3627 items)\n",
       "x: TextList\n",
       "_bos_ M G Q Q P G K V L G D Q R R P S L P A L H F I K G A G K K E S S R H G G P H C N V F V E H E A L Q R P V A S D F E P Q G L S E A A R W N S K E N L L A G P S E N D P N L F V A L Y D F V A S G D N T L S I T K G E K L R V L G Y N H N G E W C E A Q T K N G Q G W V P S N Y I T P V N S L E K H S W Y H G P V S R N A A E Y L L S S G I N G S F L V R E S E S S P G Q R S I S L R Y E G R V Y H Y R I N T A S D G K L Y V S S E S R F N T L A E L V H H H S T V A D G L I T T L H Y P A P K R N K P T V Y G V S P N Y D K W E M E R T D I T M K H K L G G G Q Y G E V Y E G V W K K Y S L T V A V K T L K E D T M E V E E F L K E A A V M K E I K H P N L V Q L L G V C T R E P P F Y I I T E F M T Y G N L L D Y L R E C N R Q E V N A V V L L Y M A T Q I S S A M E Y L E K K N F I H R D L A A R N C L V G E N H L V K V A D F G L S R L M T G D T Y T A H A G A K F P I K W T A P E S L A Y N K F S I K S D V W A F G V L L W E I A T Y G M S P Y P G I D L S Q V Y E L L E K D Y R M E R P E G C P E K V Y E L M R A C W Q W N P S D R P S F A E I H Q A F E T M F Q E S S I S D E V E K E L G K Q G V R G A V S T L L Q A P E L P T K T R T S R R A A E H R D T T D V P E M P H S K G Q G E S D P L D H E P A V S P L L P R K E R G P P E G G L N E D E R L L P K D K K T N L F S A L I K K K K K T A P T P P K R S S S F R E M D G Q P E R R G A G E E E G R D I S N G A L A F T P L D T A D P A K S P K P S N G A G V P N G A L R E S G G S G F R S P H L W K K S S T L T S S R L A T G E E E G G G S S S K R F L R S C S A S C V P H G A K D T E W R S V T L P R D L Q S T G R Q F D S S T F G G H K S E K P A L P R K R A G E N R S D Q V T R G T V T P P P R L V K K N E E A A D E V F K D I M E S S P G S S P P N L T P K P L R R Q V T V A P A S G L P H K E E A G K G S A L G T P A A A E P V T P T S K A G S G A P G G T S K G P A E E S R V R R H K H S S E S P G R D K G K L S R L K P A P P P P P A A S A G K A G G K P S Q S P S Q E A A G E A V L G A K T K A T S L V D A V N S D A A K P S Q P G E G L K K P V L P A T P K P Q S A K P S G T P I S P A P V P S T L P S A S S A L A G D Q P S S T A F I P L I S T R V S L R K T R Q P P E R I A S G A I T K G V V L D S T E A L C L A I S R N S E Q M A S H S A V L E A G K N L Y T F C V S Y V D S I Q Q M R N K F A F R E A I N K L E N N L R E L Q I C P A T A G S G P A A T Q D F S K L L S S V K E I S D I V Q R,_bos_ M Y S G A G P A L A P P A P P P P I Q G Y A F K P P P R P D F G T S G R T I K L Q A N F F E M D I P K I D I Y H Y E L D I K P E K C P R R V N R E I V E H M V Q H F K T Q I F G D R K P V F D G R K N L Y T A M P L P I G R D K V E L E V T L P G E G K D R I F K V S I K W V S C V S L Q A L H D A L S G R L P S V P F E T I Q A L D V V M R H L P S M R Y T P V G R S F F T A S E G C S N P L G G G R E V W F G F H Q S V R P S L W K M M L N I D V S A T A F Y K A Q P V I E F V C E V L D F K S I E E Q Q K P L T D S Q R V K F T K E I K G L K V E I T H C G Q M K R K Y R V C N V T R R P A S H Q T F P L Q Q E S G Q T V E C T V A Q Y F K D R H K L V L R Y P H L P C L Q V G Q E Q K H T Y L P L E V C N I V A G Q R C I K K L T D N Q T S T M I R A T A R S A P D R Q E E I S K L M R S A S F N T D P Y V R E F G I M V K D E M T D V T G R V L Q P P S I L Y G G R N K A I A T P V Q G V W D M R N K Q F H T G I E I K V W A I A C F A P Q R Q C T E V H L K S F T E Q L R K I S R D A G M P I Q G Q P C F C K Y A Q G A D S V E P M F R H L K N T Y A G L Q L V V V I L P G K T P V Y A E V K R V G D T V L G M A T Q C V Q M K N V Q R T T P Q T L S N L C L K I N V K L G G V N N I L L P Q G R P P V F Q Q P V I F L G A D V T H P P A G D G K K P S I A A V V G S M D A H P N R Y C A T V R V Q Q H R Q E I I Q D L A A M V R E L L I Q F Y K S T R F K P T R I I F Y R D G V S E G Q F Q Q V L H H E L L A I R E A C I K L E K D Y Q P G I T F I V V Q K R H H T R L F C T D K N E R V G K S G N I P A G T T V D T K I T H P T E F D F Y L C S H A G I Q G T S R P S H Y H V L W D D N R F S S D E L Q I L T Y Q L C H T Y V R C T R S V S I P A P A Y Y A H L V A F R A R Y H L V D K E H D S A E G S H T S G Q S N G R D H Q A L A K A V Q V H Q D T L R T M Y F A,_bos_ M L P G L A L L L L A A W T A R A L E V P T D G N A G L L A E P Q I A M F C G R L N M H M N V Q N G K W D S D P S G T K T C I D T K E G I L Q Y C Q E V Y P E L Q I T N V V E A N Q P V T I Q N W C K R G R K Q C K T H P H F V I P Y R C L V G E F V S D A L L V P D K C K F L H Q E R M D V C E T H L H W H T V A K E T C S E K S T N L H D Y G M L L P C G I D K F R G V E F V C C P L A E E S D N V D S A D A E E D D S D V W W G G A D T D Y A D G S E D K V V E V A E E E E V A E V E E E E A D D D E D D E D G D E V E E E A E E P Y E E A T E R T T S I A T T T T T T T E S V E E V V R E V C S E Q A E T G P C R A M I S R W Y F D V T E G K C A P F F Y G G C G G N R N N F D T E E Y C M A V C G S A M S Q S L L K T T Q E P L A R D P V K L P T T A A S T P D A V D K Y L E T P G D E N E H A H F Q K A K E R L E A K H R E R M S Q V M R E W E E A E R Q A K N L P K A D K K A V I Q H F Q E K V E S L E Q E A A N E R Q Q L V E T H M A R V E A M L N D R R R L A L E N Y I T A L Q A V P P R P R H V F N M L K K Y V R A E Q K D R Q H T L K H F E H V R M V D P K K A A Q I R S Q V M T H L R V I Y E R M N Q S L S L L Y N V P A V A E E I Q D E V D E L L Q K E Q N Y S D D V L A N M I S E P R I S Y G N D A L M P S L T E T K T T V E L L P V N G E F S L D D L Q P W H S F G A D S V P A N T E N E V E P V D A R P A A D R G L T T R P G S G L T N I K T E E I S E V K M D A E F R H D S G Y E V H H Q K L V F F A E D V G S N K G A I I G L M V G G V V I A T V I V I T L V M L K K K Q Y T S I H H G V V E V D A A V T P E E R H L S K M Q Q N G Y E N P T Y K F F E Q M Q N,_bos_ M R S A A A A P R S P A V A T E S R R F A A A R W P G W R S L Q R P A R R S G R G G G G A A P G P Y P S A A P P P P G P G P P P S R Q S S P P S A S D C F G S N G N G G G A F R P G S R R L L G L G G P P R P F V V L L L P L A S P G A P P A A P T R A S P L G A R A S P P R S G V S L A R P A P G C P R P A C E P V Y G P L T M S L K P Q Q Q Q Q Q Q Q Q Q Q Q Q Q Q Q Q Q Q Q Q Q Q P P P A A A N V R K P G G S G L L A S P A A A P S P S S S S V S S S S A T A P S S V V A A T S G G G R P G L G R G R N S N K G L P Q S T I S F D G I Y A N M R M V H I L T S V V G S K C E V Q V K N G G I Y E G V F K T Y S P K C D L V L D A A H E K S T E S S S G P K R E E I M E S I L F K C S D F V V V Q F K D M D S S Y A K R D A F T D S A I S A K V N G E H K E K D L E P W D A G E L T A N E E L E A L E N D V S N G W D P N D M F R Y N E E N Y G V V S T Y D S S L S S Y T V P L E R D N S E E F L K R E A R A N Q L A E E I E S S A Q Y K A R V A L E N D D R S E E E K Y T A V Q R N S S E R E G H S I N T R E N K Y I P P G Q R N R E V I S W G S G R Q N S P R M G Q P G S G S M P S R S T S H T S D F N P N S G S D Q R V V N G G V P W P S P C P S P S S R P P S R Y Q S G P N S L P P R A A T P T R P P S R P P S R P S R P P S H P S A H G S P A P V S T M P K R M S S E G P P R M S P K A Q R H P R N H R V S A G R G S I S S G L E F V S H N P P S E A A T P P V A R T S P S G G T W S S V V S G V P R L S P K T H R P R S P R Q N S I G N T P S G P V L A S P Q A G I I P T E A V A M P I P A A S P T P A S P A S N R A V T P S S E A K D S R L Q D Q R Q N S P A G N K E N I K P N E T S P S F S K A E N K G I S P V V S E H R K Q I D D L K K F K N D F R L Q P S S T S E S M D Q L L N K N R E G E K S R D L I K D K I E P S A K D S F I E N S S S N C T S G S S K P N S P S I S P S I L S N T E H K R G P E V T S Q G V Q T S S P A C K Q E K D D K E E K K D A A E Q V R K S T L N P N A K E F N P R S F S Q P K P S T T P T S P R P Q A Q P S P S M V G H Q Q P T P V Y T Q P V C F A P N M M Y P V P V S P G V Q P L Y P I P M T P M P V N Q A K T Y R A V P N M P Q Q R Q D Q H H Q S A M M H P A S A A G P P I A A T P P A Y S T Q Y V A Y S P Q Q F P N Q P L V Q H V P H Y Q S Q H P H V Y S P V I Q G N A R M M A P P T H A Q P G L V S S S A T Q Y G A H E Q T H A M Y A C P K L P Y N K E T S P S F Y F A I S T G S L A Q Q Y A H P N A T L H P H T P H P Q P S A T P T G Q Q Q S Q H G G S H P A P S P V Q H H Q H Q A A Q A L H L A S P Q Q Q S A I Y H A G L A P T P P S M T P A S N T Q S P Q N S F P A A Q Q T V F T I H P S H V Q P A Y T N P P H M A H V P Q A H V Q S G M V P S H P T A H A P M M L M T T Q P P G G P Q A A L A Q S A L Q P I P V S T T A H F P Y M T H P S V Q A H H Q Q Q L,_bos_ M L K P Q P L Q Q P S Q P Q Q P P P T Q Q A V A R R P P G G T S P P N G G L P G P L A T S A A P P G P P A A A S P C L G P V A A A G S G L R R G A E G I L A P Q P P P P Q Q H Q E R P G A A A I G S A R G Q S T G K G P P Q S P V F E G V Y N N S R M L H F L T A V V G S T C D V K V K N G T T Y E G I F K T L S S K F E L A V D A V H R K A S E P A G G P R R E D I V D T M V F K P S D V M L V H F R N V D F N Y A T K D K F T D S A I A M N S K V N G E H K E K V L Q R W E G G D S N S D D Y D L E S D M S N G W D P N E M F K F N E E N Y G V K T T Y D S S L S S Y T V P L E K D N S E E F R Q R E L R A A Q L A R E I E S S P Q Y R L R I A M E N D D G R T E E E K H S A V Q R Q G S G R E S P S L A S R E G K Y I P L P Q R V R E G P R G G V R C S S S R G G R P G L S S L P P R G P H H L D N S S P G P G S E A R G I N G G P S R M S P K A Q R P L R G A K T L S S P S N R P S G E T S V P P P P A V G R M Y P P R S P K S A A P A P I S A S C P E P P I G S A V P T S S A S I P V T S S V S D P G V G S I S P A S P K I S L A P T D V K E L S T K E P G R T L E P Q E L A R I A G K V P G L Q N E Q K R F Q L E E L R K F G A Q F K L Q P S S S P E N S L D P F P P R I L K E E P K G K E K E V D G L L T S E P M G S P V S S K T E S V S D K E D K P P L A P S G G T E G P E Q P P P P C P S Q T G S P P V G L I K G E D K D E G P V A E Q V K K S T L N P N A K E F N P T K P L L S V N K S T S T P T S P G P R T H S T P S I P V L T A G Q S G L Y S P Q Y I S Y I P Q I H M G P A V Q A P Q M Y P Y P V S N S V P G Q Q G K Y R G A K G S L P P Q R S D Q H Q P A S A P P M M Q A A A A A G P P L V A A T P Y S S Y I P Y N P Q Q F P G Q P A M M Q P M A H Y P S Q P V F A P M L Q S N P R M L T S G S H P Q A I V S S S T P Q Y P S A E Q P T P Q A L Y A T V H Q S Y P H H A T Q L H A H Q P Q P A T T P T G S Q P Q S Q H A A P S P V Q H Q A G Q A P H L G S G Q P Q Q N L Y H P G A L T G T P P S L P P G P S A Q S P Q S S F P Q P A A V Y A I H H Q Q L P H G F T N M A H V T Q A H V Q T G I T A A P P P H P G A P H P P Q V M L L H P P Q S H G G P P Q G A V P Q S G V P A L S A S T P S P Y P Y I G H P Q G E Q P G Q A P G F P G G A D D R I L C R V G R S H S R R R Q G L A P G S V L C F P P S S L S C D P A A P L P T A S P A L S D P D C L L T\n",
       "y: EmptyLabelList\n",
       ",,,,\n",
       "Path: .;\n",
       "\n",
       "Valid: LabelList (0 items)\n",
       "x: TextList\n",
       "\n",
       "y: EmptyLabelList\n",
       "\n",
       "Path: .;\n",
       "\n",
       "Test: None"
      ]
     },
     "execution_count": 24,
     "metadata": {},
     "output_type": "execute_result"
    }
   ],
   "source": [
    "learn.data"
   ]
  },
  {
   "cell_type": "markdown",
   "id": "f1dc56d9-921e-4ca4-b1b8-a92efda84083",
   "metadata": {},
   "source": [
    "```\n",
    "text_pred has been assigned to the loaded-learner under DatasetType-Train\n",
    "```"
   ]
  },
  {
   "cell_type": "code",
   "execution_count": 26,
   "id": "34ea861e-87d3-45fb-b569-a77fad0f1080",
   "metadata": {},
   "outputs": [
    {
     "data": {
      "text/html": [
       "\n",
       "<style>\n",
       "    /* Turns off some styling */\n",
       "    progress {\n",
       "        /* gets rid of default border in Firefox and Opera. */\n",
       "        border: none;\n",
       "        /* Needs to be in here for Safari polyfill so background images work as expected. */\n",
       "        background-size: auto;\n",
       "    }\n",
       "    .progress-bar-interrupted, .progress-bar-interrupted::-webkit-progress-bar {\n",
       "        background: #F44336;\n",
       "    }\n",
       "</style>\n"
      ],
      "text/plain": [
       "<IPython.core.display.HTML object>"
      ]
     },
     "metadata": {},
     "output_type": "display_data"
    },
    {
     "data": {
      "text/html": [],
      "text/plain": [
       "<IPython.core.display.HTML object>"
      ]
     },
     "metadata": {},
     "output_type": "display_data"
    }
   ],
   "source": [
    "probs1, unlabeled_targs1_ = learn.get_preds(ds_type=DatasetType.Train,ordered = True)"
   ]
  },
  {
   "cell_type": "code",
   "execution_count": 27,
   "id": "8b94a932-6220-433c-a7c0-e23d0db79c82",
   "metadata": {},
   "outputs": [],
   "source": [
    "# Load the Uniprot ids and DrLLPS labels of each instance in the text_pred\n",
    "uniprot_ids = np.load(WORKING_FOLDER/'UniProt_IDs.npy', allow_pickle = True)\n",
    "labels = np.load(WORKING_FOLDER/'DrLLPS_labels.npy', allow_pickle = True)"
   ]
  },
  {
   "cell_type": "code",
   "execution_count": 28,
   "id": "aac83b71-9ad9-4c5f-a37b-a4df6aca064e",
   "metadata": {},
   "outputs": [],
   "source": [
    "filename_output1 = \"UDSM-LLPS-Random_predictions.npz\"\n",
    "np.savez(WORKING_FOLDER/filename_output1,UniProt_IDs=uniprot_ids,LLPS_Propensity=probs1,DrLLPS_labels=labels)"
   ]
  },
  {
   "cell_type": "markdown",
   "id": "b67f0b57-b487-4ba2-b916-4757b3057cfc",
   "metadata": {},
   "source": [
    "<h3><span style='background :yellow' >3. Load the fine-tuned UDSM-LLPS(UniRef) model</span></h3>"
   ]
  },
  {
   "cell_type": "code",
   "execution_count": 30,
   "id": "a6d1df2a-d4ad-4560-9f73-f150d3c7954b",
   "metadata": {},
   "outputs": [],
   "source": [
    "PRETRAINED_FOLDER2 = Path(\"../\")"
   ]
  },
  {
   "cell_type": "code",
   "execution_count": 31,
   "id": "df684ab3-a961-4018-a5cc-6a6e631c2c8e",
   "metadata": {},
   "outputs": [],
   "source": [
    "learn2 = load_learner(PRETRAINED_FOLDER2, 'UDSM-LLPS_UniRef.pkl')"
   ]
  },
  {
   "cell_type": "code",
   "execution_count": 32,
   "id": "7b3b617b-703f-486f-825a-3c4b877378a8",
   "metadata": {},
   "outputs": [],
   "source": [
    "learn2.data = text_pred"
   ]
  },
  {
   "cell_type": "code",
   "execution_count": 33,
   "id": "6e045d95-7f28-40c9-bc2f-7adfe7be0252",
   "metadata": {},
   "outputs": [
    {
     "data": {
      "text/html": [
       "\n",
       "<style>\n",
       "    /* Turns off some styling */\n",
       "    progress {\n",
       "        /* gets rid of default border in Firefox and Opera. */\n",
       "        border: none;\n",
       "        /* Needs to be in here for Safari polyfill so background images work as expected. */\n",
       "        background-size: auto;\n",
       "    }\n",
       "    .progress-bar-interrupted, .progress-bar-interrupted::-webkit-progress-bar {\n",
       "        background: #F44336;\n",
       "    }\n",
       "</style>\n"
      ],
      "text/plain": [
       "<IPython.core.display.HTML object>"
      ]
     },
     "metadata": {},
     "output_type": "display_data"
    },
    {
     "data": {
      "text/html": [],
      "text/plain": [
       "<IPython.core.display.HTML object>"
      ]
     },
     "metadata": {},
     "output_type": "display_data"
    }
   ],
   "source": [
    "probs2, unlabeled_targs2_ = learn2.get_preds(ds_type=DatasetType.Train,ordered = True)"
   ]
  },
  {
   "cell_type": "code",
   "execution_count": 34,
   "id": "3cbb7036-ce93-4125-8736-eeafec4a8761",
   "metadata": {},
   "outputs": [],
   "source": [
    "filename_output2 = \"UDSM-LLPS-UniRef_predictions.npz\"\n",
    "np.savez(WORKING_FOLDER/filename_output2,UniProt_IDs=uniprot_ids,LLPS_Propensity=probs2,DrLLPS_labels=labels)"
   ]
  },
  {
   "cell_type": "code",
   "execution_count": null,
   "id": "f09f05f3-b5c5-40d4-a602-88c7eab2cd90",
   "metadata": {},
   "outputs": [],
   "source": []
  }
 ],
 "metadata": {
  "kernelspec": {
   "display_name": "UDSMProt",
   "language": "python",
   "name": "python_custom"
  },
  "language_info": {
   "codemirror_mode": {
    "name": "ipython",
    "version": 3
   },
   "file_extension": ".py",
   "mimetype": "text/x-python",
   "name": "python",
   "nbconvert_exporter": "python",
   "pygments_lexer": "ipython3",
   "version": "3.9.7"
  }
 },
 "nbformat": 4,
 "nbformat_minor": 5
}
